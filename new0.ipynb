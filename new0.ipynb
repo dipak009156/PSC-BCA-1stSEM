{
 "cells": [
  {
   "cell_type": "code",
   "execution_count": 31,
   "id": "06377dbb-41a0-4a02-8602-98a958efec30",
   "metadata": {},
   "outputs": [],
   "source": [
    "name = \"Prasanna babar\""
   ]
  },
  {
   "cell_type": "code",
   "execution_count": 5,
   "id": "fd67ff55-fb34-4620-80ea-452cde10dd68",
   "metadata": {},
   "outputs": [
    {
     "data": {
      "text/plain": [
       "'Prasanna babar'"
      ]
     },
     "execution_count": 5,
     "metadata": {},
     "output_type": "execute_result"
    }
   ],
   "source": [
    "name"
   ]
  },
  {
   "cell_type": "code",
   "execution_count": 6,
   "id": "dcca6a61-2b37-49bc-98cc-401d5ccc47b3",
   "metadata": {},
   "outputs": [
    {
     "data": {
      "text/plain": [
       "'n'"
      ]
     },
     "execution_count": 6,
     "metadata": {},
     "output_type": "execute_result"
    }
   ],
   "source": [
    "name[6]"
   ]
  },
  {
   "cell_type": "code",
   "execution_count": 8,
   "id": "cad19246-5a53-4ff4-b714-5ca6ddd31955",
   "metadata": {},
   "outputs": [],
   "source": [
    "# Slicing Operation"
   ]
  },
  {
   "cell_type": "code",
   "execution_count": 13,
   "id": "7ab8f80f-e1bf-482e-af53-0aa7b02055ce",
   "metadata": {},
   "outputs": [
    {
     "data": {
      "text/plain": [
       "' annas'"
      ]
     },
     "execution_count": 13,
     "metadata": {},
     "output_type": "execute_result"
    }
   ],
   "source": [
    "name[-6:2:-1]"
   ]
  },
  {
   "cell_type": "code",
   "execution_count": 15,
   "id": "7612ca41-70a6-47cd-a856-54b0efe5d7b5",
   "metadata": {},
   "outputs": [
    {
     "data": {
      "text/plain": [
       "''"
      ]
     },
     "execution_count": 15,
     "metadata": {},
     "output_type": "execute_result"
    }
   ],
   "source": [
    "name[-5:3:1]"
   ]
  },
  {
   "cell_type": "code",
   "execution_count": 16,
   "id": "0cc7281c-a55a-416e-af19-92e5f693ef09",
   "metadata": {},
   "outputs": [
    {
     "data": {
      "text/plain": [
       "''"
      ]
     },
     "execution_count": 16,
     "metadata": {},
     "output_type": "execute_result"
    }
   ],
   "source": [
    "name[-5:10:-1]"
   ]
  },
  {
   "cell_type": "code",
   "execution_count": 17,
   "id": "edfafb6a-d667-4206-b215-2f84fd3eae7a",
   "metadata": {},
   "outputs": [
    {
     "data": {
      "text/plain": [
       "'na ba'"
      ]
     },
     "execution_count": 17,
     "metadata": {},
     "output_type": "execute_result"
    }
   ],
   "source": [
    "name[-8:11]"
   ]
  },
  {
   "cell_type": "code",
   "execution_count": 18,
   "id": "f97da865-9498-4bba-82e3-709d18f6fc62",
   "metadata": {},
   "outputs": [
    {
     "data": {
      "text/plain": [
       "'r'"
      ]
     },
     "execution_count": 18,
     "metadata": {},
     "output_type": "execute_result"
    }
   ],
   "source": [
    "name[13]"
   ]
  },
  {
   "cell_type": "code",
   "execution_count": 19,
   "id": "96b86750-ff59-4f13-a66b-9da8da41e3cc",
   "metadata": {},
   "outputs": [
    {
     "data": {
      "text/plain": [
       "'na bab'"
      ]
     },
     "execution_count": 19,
     "metadata": {},
     "output_type": "execute_result"
    }
   ],
   "source": [
    "name[6:-2]"
   ]
  },
  {
   "cell_type": "code",
   "execution_count": 21,
   "id": "61dcd490-0b27-427f-a2d8-e0b337c2abb8",
   "metadata": {},
   "outputs": [
    {
     "data": {
      "text/plain": [
       "'raaar'"
      ]
     },
     "execution_count": 21,
     "metadata": {},
     "output_type": "execute_result"
    }
   ],
   "source": [
    "name[13:-14:-3]"
   ]
  },
  {
   "cell_type": "code",
   "execution_count": 22,
   "id": "9174af84-e0dc-4bba-867b-c26a3c4b171e",
   "metadata": {},
   "outputs": [
    {
     "data": {
      "text/plain": [
       "'na'"
      ]
     },
     "execution_count": 22,
     "metadata": {},
     "output_type": "execute_result"
    }
   ],
   "source": [
    "name[-8:8]"
   ]
  },
  {
   "cell_type": "code",
   "execution_count": 23,
   "id": "c9656824-ea23-4b47-a1c9-26b3ec05e973",
   "metadata": {},
   "outputs": [
    {
     "data": {
      "text/plain": [
       "''"
      ]
     },
     "execution_count": 23,
     "metadata": {},
     "output_type": "execute_result"
    }
   ],
   "source": [
    "name[-9:0:1]"
   ]
  },
  {
   "cell_type": "code",
   "execution_count": 25,
   "id": "2b8e0cd2-d617-494b-ab0f-cd5b86e11908",
   "metadata": {},
   "outputs": [],
   "source": [
    "name = \"Dipak Chavan\""
   ]
  },
  {
   "cell_type": "code",
   "execution_count": 26,
   "id": "f554b86b-16b9-4526-87d9-71a15f88ca50",
   "metadata": {},
   "outputs": [
    {
     "data": {
      "text/plain": [
       "'Dipak Chavan'"
      ]
     },
     "execution_count": 26,
     "metadata": {},
     "output_type": "execute_result"
    }
   ],
   "source": [
    "name"
   ]
  },
  {
   "cell_type": "code",
   "execution_count": 32,
   "id": "d146f3fd-2d02-4706-b50d-550b8a53450d",
   "metadata": {},
   "outputs": [
    {
     "data": {
      "text/plain": [
       "'rabab annasarP'"
      ]
     },
     "execution_count": 32,
     "metadata": {},
     "output_type": "execute_result"
    }
   ],
   "source": [
    "name[-1: :-1]"
   ]
  },
  {
   "cell_type": "code",
   "execution_count": 46,
   "id": "8d91cab0-c663-4d81-b24b-c686ec058c45",
   "metadata": {},
   "outputs": [],
   "source": [
    "name1 = \"vaishnavi Sharma\""
   ]
  },
  {
   "cell_type": "code",
   "execution_count": 47,
   "id": "cadf9586-783e-4351-8ce2-f73691a8e135",
   "metadata": {},
   "outputs": [
    {
     "data": {
      "text/plain": [
       "'vaishnavi Sharma1511'"
      ]
     },
     "execution_count": 47,
     "metadata": {},
     "output_type": "execute_result"
    }
   ],
   "source": [
    "name1+str(1511)"
   ]
  },
  {
   "cell_type": "markdown",
   "id": "17874912-24a8-4e81-8952-8b3e42380d34",
   "metadata": {},
   "source": [
    "# fIDN THE LENGHT OF NAME1"
   ]
  },
  {
   "cell_type": "code",
   "execution_count": 64,
   "id": "1283229e-67ce-47f0-9a05-373a077280ba",
   "metadata": {},
   "outputs": [
    {
     "data": {
      "text/plain": [
       "16"
      ]
     },
     "execution_count": 64,
     "metadata": {},
     "output_type": "execute_result"
    }
   ],
   "source": [
    "len(name1)"
   ]
  },
  {
   "cell_type": "code",
   "execution_count": 65,
   "id": "9b17d5a0-030b-4062-b42c-cce1653fce77",
   "metadata": {},
   "outputs": [
    {
     "data": {
      "text/plain": [
       "'vaishnavi Sharmavaishnavi Sharmavaishnavi Sharmavaishnavi Sharma'"
      ]
     },
     "execution_count": 65,
     "metadata": {},
     "output_type": "execute_result"
    }
   ],
   "source": [
    "name1*4"
   ]
  },
  {
   "cell_type": "code",
   "execution_count": 66,
   "id": "74a78217-3c38-48cd-8950-d153d7c23b64",
   "metadata": {},
   "outputs": [
    {
     "data": {
      "text/plain": [
       "2"
      ]
     },
     "execution_count": 66,
     "metadata": {},
     "output_type": "execute_result"
    }
   ],
   "source": [
    "name1.count(\"i\")"
   ]
  },
  {
   "cell_type": "code",
   "execution_count": 80,
   "id": "f27e9fca-88ea-45a2-a3b4-7d64410e3773",
   "metadata": {},
   "outputs": [
    {
     "data": {
      "text/plain": [
       "['va', 'shnav', ' Sharma']"
      ]
     },
     "execution_count": 80,
     "metadata": {},
     "output_type": "execute_result"
    }
   ],
   "source": [
    "name1.split(\"i\")"
   ]
  },
  {
   "cell_type": "code",
   "execution_count": 81,
   "id": "fdce5510-0b0c-4aa9-9baf-8c91d7ac261f",
   "metadata": {},
   "outputs": [
    {
     "data": {
      "text/plain": [
       "list"
      ]
     },
     "execution_count": 81,
     "metadata": {},
     "output_type": "execute_result"
    }
   ],
   "source": [
    "type(name1.split(\"i\"))"
   ]
  },
  {
   "cell_type": "code",
   "execution_count": 79,
   "id": "eb105d40-20a7-4966-aca3-10d9c7145655",
   "metadata": {},
   "outputs": [],
   "source": [
    "name3 =\"Lorem Ipsum is simply dummy text of the printing and typesetting industry. Lorem Ipsum has been the industry's standard dummy text ever since the 1500s, when an unknown printer took a galley of type and scrambled it to make a type specimen book. It has survived not only five centuries, but also the leap into electronic typesetting, remaining essentially unchanged. It was popularised in the 1960s with the release of Letraset sheets containing Lorem Ipsum passages, and more recently with desktop publishing software like Aldus PageMaker including versions of Lorem Ipsum\""
   ]
  },
  {
   "cell_type": "code",
   "execution_count": 90,
   "id": "84fde025-951b-4c9b-8841-11c26e24c4cc",
   "metadata": {},
   "outputs": [
    {
     "data": {
      "text/plain": [
       "['Lorem',\n",
       " 'Ipsum',\n",
       " 'is',\n",
       " 'simply',\n",
       " 'dummy',\n",
       " 'text',\n",
       " 'of',\n",
       " 'the',\n",
       " 'printing',\n",
       " 'and',\n",
       " 'typesetting',\n",
       " 'industry.',\n",
       " 'Lorem',\n",
       " 'Ipsum',\n",
       " 'has',\n",
       " 'been',\n",
       " 'the',\n",
       " \"industry's\",\n",
       " 'standard',\n",
       " 'dummy',\n",
       " 'text',\n",
       " 'ever',\n",
       " 'since',\n",
       " 'the',\n",
       " '1500s,',\n",
       " 'when',\n",
       " 'an',\n",
       " 'unknown',\n",
       " 'printer',\n",
       " 'took',\n",
       " 'a',\n",
       " 'galley',\n",
       " 'of',\n",
       " 'type',\n",
       " 'and',\n",
       " 'scrambled',\n",
       " 'it',\n",
       " 'to',\n",
       " 'make',\n",
       " 'a',\n",
       " 'type',\n",
       " 'specimen',\n",
       " 'book.',\n",
       " 'It',\n",
       " 'has',\n",
       " 'survived',\n",
       " 'not',\n",
       " 'only',\n",
       " 'five',\n",
       " 'centuries,',\n",
       " 'but',\n",
       " 'also',\n",
       " 'the',\n",
       " 'leap',\n",
       " 'into',\n",
       " 'electronic',\n",
       " 'typesetting,',\n",
       " 'remaining',\n",
       " 'essentially',\n",
       " 'unchanged.',\n",
       " 'It',\n",
       " 'was',\n",
       " 'popularised',\n",
       " 'in',\n",
       " 'the',\n",
       " '1960s',\n",
       " 'with',\n",
       " 'the',\n",
       " 'release',\n",
       " 'of',\n",
       " 'Letraset',\n",
       " 'sheets',\n",
       " 'containing',\n",
       " 'Lorem',\n",
       " 'Ipsum',\n",
       " 'passages,',\n",
       " 'and',\n",
       " 'more',\n",
       " 'recently',\n",
       " 'with',\n",
       " 'desktop',\n",
       " 'publishing',\n",
       " 'software',\n",
       " 'like',\n",
       " 'Aldus',\n",
       " 'PageMaker',\n",
       " 'including',\n",
       " 'versions',\n",
       " 'of',\n",
       " 'Lorem',\n",
       " 'Ipsum']"
      ]
     },
     "execution_count": 90,
     "metadata": {},
     "output_type": "execute_result"
    }
   ],
   "source": [
    "name3.split(\" \")"
   ]
  },
  {
   "cell_type": "code",
   "execution_count": null,
   "id": "952b1ed6-e56d-4bb7-bdad-8743f7c8c59c",
   "metadata": {},
   "outputs": [],
   "source": []
  }
 ],
 "metadata": {
  "kernelspec": {
   "display_name": "Python 3 (ipykernel)",
   "language": "python",
   "name": "python3"
  },
  "language_info": {
   "codemirror_mode": {
    "name": "ipython",
    "version": 3
   },
   "file_extension": ".py",
   "mimetype": "text/x-python",
   "name": "python",
   "nbconvert_exporter": "python",
   "pygments_lexer": "ipython3",
   "version": "3.12.4"
  }
 },
 "nbformat": 4,
 "nbformat_minor": 5
}
